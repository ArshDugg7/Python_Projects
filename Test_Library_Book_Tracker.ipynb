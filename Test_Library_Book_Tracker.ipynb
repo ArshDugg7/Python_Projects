{
  "nbformat": 4,
  "nbformat_minor": 0,
  "metadata": {
    "colab": {
      "provenance": []
    },
    "kernelspec": {
      "name": "python3",
      "display_name": "Python 3"
    },
    "language_info": {
      "name": "python"
    }
  },
  "cells": [
    {
      "cell_type": "markdown",
      "source": [
        "\n",
        "Got it, let's pivot to something different but still testing your skills with lists, loops, and functions! Here's a new scenario:\n",
        "\n",
        "Exercise: Library Book Tracker\n",
        "Objective\n",
        "Create a tool for a small library to track book availability and allow users to check out or return books.\n",
        "\n",
        "Instructions\n",
        "\n",
        "1) Create a list called books and populate it with initial book titles: \"1984\", \"To Kill a Mockingbird\", \"The Great Gatsby\", \"Moby Dick\".\n",
        "\n",
        "2) Create another list called availability to track whether each book is available or checked out. Initialize it with True for all books (meaning all are available).\n",
        "\n",
        "3) Create a function called check_out that takes a book name as an argument. It should find the book in the books list and mark it as unavailable (False) in the availability list. If the book is already checked out or doesn’t exist, display an appropriate message.\n",
        "\n",
        "4) Create another function called return_book that takes a book name as an argument. It should mark the book as available (True) in the availability list. If the book is already available or doesn’t exist, display an appropriate message.\n",
        "\n",
        "5) Use a while loop to repeatedly ask the user if they want to check out or return a book, or view the current status of all books, until they choose to exit."
      ],
      "metadata": {
        "id": "lx8Otm9nSPHE"
      }
    },
    {
      "cell_type": "code",
      "source": [
        "books = [\"1984\", \"To Kill a Mockingbird\", \"The Great Gatsby\", \"Moby Dick\"]\n",
        "\n",
        "availability = [True, True, True, True]\n",
        "\n",
        "def check_out(bookname):\n",
        "  for b in range(len(books)):\n",
        "\n",
        "    if books[b] == bookname:\n",
        "      if availability[b]: #\n",
        "        availability[b] = False\n",
        "        print(\"Book checked out successfully!\")\n",
        "        return # Exits after a successful checkout\n",
        "\n",
        "      else:\n",
        "       print(\"The book is not available. Its already checked out\")\n",
        "       return # Exits if the book is unavailable\n",
        "\n",
        "  print(\"The book does not exist. \")\n",
        "\n",
        "\n",
        "def return_book(bookname):\n",
        "  for b in range(len(books)):\n",
        "\n",
        "    if books[b] == bookname:\n",
        "      if availability[b]:\n",
        "       availability[b] = True\n",
        "       print(\"Book returned successfully!\")\n",
        "       return # Exits after a successful return\n",
        "\n",
        "      else:\n",
        "       print(\"The book is already available. \")\n",
        "       return  # Exits if the book is already returned\n",
        "\n",
        "  print(\"The book does not exist. \")\n",
        "\n",
        "while True:\n",
        "  print(\"Available actions: check_out, return, view, exit.\")\n",
        "  print(\"Books: \", books)\n",
        "\n",
        "  user = input(\"Enter an action: \").strip().lower()\n",
        "\n",
        "  if user == \"exit\":\n",
        "    print(\"Goodbye! \")\n",
        "    break\n",
        "\n",
        "  elif user == \"check_out\":\n",
        "    bookname = input(\"Enter the book name: \").strip()\n",
        "    check_out(bookname)\n",
        "\n",
        "  elif user == \"return\":\n",
        "    bookname = input(\"Enter the book name: \").strip()\n",
        "    return_book(bookname)\n",
        "\n",
        "  elif user == \"view\":\n",
        "    for i in range(len(books)):\n",
        "      status = \"Available\" if availability[i] else \"Not Available\" # if its True then available, if not Not AVailable\n",
        "      print(f\"{books[i]}, {status}\")\n",
        "\n",
        "  else:\n",
        "    print(\"Invalid action. Please try again.\")\n"
      ],
      "metadata": {
        "colab": {
          "base_uri": "https://localhost:8080/",
          "height": 894
        },
        "id": "kUFxQO_TSdaS",
        "outputId": "4cb16cca-b838-4bb6-f096-ebfb6900b362"
      },
      "execution_count": null,
      "outputs": [
        {
          "output_type": "stream",
          "name": "stdout",
          "text": [
            "Available actions: check_out, return, view, exit.\n",
            "Books:  ['1984', 'To Kill a Mockingbird', 'The Great Gatsby', 'Moby Dick']\n",
            "Enter an action: check_out\n",
            "Enter the book name: 1984\n",
            "Book checked out successfully!\n",
            "Available actions: check_out, return, view, exit.\n",
            "Books:  ['1984', 'To Kill a Mockingbird', 'The Great Gatsby', 'Moby Dick']\n",
            "Enter an action: check_out\n",
            "Enter the book name: 1984\n",
            "Book checked out successfully!\n",
            "Available actions: check_out, return, view, exit.\n",
            "Books:  ['1984', 'To Kill a Mockingbird', 'The Great Gatsby', 'Moby Dick']\n",
            "Enter an action: check_out\n",
            "Enter the book name: ashdsa\n",
            "The book is not available. Its already checked out\n",
            "Available actions: check_out, return, view, exit.\n",
            "Books:  ['1984', 'To Kill a Mockingbird', 'The Great Gatsby', 'Moby Dick']\n",
            "Enter an action: return\n",
            "Enter the book name: 1984\n",
            "Book returned successfully!\n",
            "Available actions: check_out, return, view, exit.\n",
            "Books:  ['1984', 'To Kill a Mockingbird', 'The Great Gatsby', 'Moby Dick']\n",
            "Enter an action: view\n",
            "1984, Available\n",
            "To Kill a Mockingbird, Available\n",
            "The Great Gatsby, Available\n",
            "Moby Dick, Available\n",
            "Available actions: check_out, return, view, exit.\n",
            "Books:  ['1984', 'To Kill a Mockingbird', 'The Great Gatsby', 'Moby Dick']\n"
          ]
        },
        {
          "output_type": "error",
          "ename": "KeyboardInterrupt",
          "evalue": "Interrupted by user",
          "traceback": [
            "\u001b[0;31m---------------------------------------------------------------------------\u001b[0m",
            "\u001b[0;31mKeyboardInterrupt\u001b[0m                         Traceback (most recent call last)",
            "\u001b[0;32m<ipython-input-4-b615643083ad>\u001b[0m in \u001b[0;36m<cell line: 0>\u001b[0;34m()\u001b[0m\n\u001b[1;32m     32\u001b[0m   \u001b[0mprint\u001b[0m\u001b[0;34m(\u001b[0m\u001b[0;34m\"Books: \"\u001b[0m\u001b[0;34m,\u001b[0m \u001b[0mbooks\u001b[0m\u001b[0;34m)\u001b[0m\u001b[0;34m\u001b[0m\u001b[0;34m\u001b[0m\u001b[0m\n\u001b[1;32m     33\u001b[0m \u001b[0;34m\u001b[0m\u001b[0m\n\u001b[0;32m---> 34\u001b[0;31m   \u001b[0muser\u001b[0m \u001b[0;34m=\u001b[0m \u001b[0minput\u001b[0m\u001b[0;34m(\u001b[0m\u001b[0;34m\"Enter an action: \"\u001b[0m\u001b[0;34m)\u001b[0m\u001b[0;34m.\u001b[0m\u001b[0mstrip\u001b[0m\u001b[0;34m(\u001b[0m\u001b[0;34m)\u001b[0m\u001b[0;34m.\u001b[0m\u001b[0mlower\u001b[0m\u001b[0;34m(\u001b[0m\u001b[0;34m)\u001b[0m\u001b[0;34m\u001b[0m\u001b[0;34m\u001b[0m\u001b[0m\n\u001b[0m\u001b[1;32m     35\u001b[0m \u001b[0;34m\u001b[0m\u001b[0m\n\u001b[1;32m     36\u001b[0m   \u001b[0;32mif\u001b[0m \u001b[0muser\u001b[0m \u001b[0;34m==\u001b[0m \u001b[0;34m\"exit\"\u001b[0m\u001b[0;34m:\u001b[0m\u001b[0;34m\u001b[0m\u001b[0;34m\u001b[0m\u001b[0m\n",
            "\u001b[0;32m/usr/local/lib/python3.11/dist-packages/ipykernel/kernelbase.py\u001b[0m in \u001b[0;36mraw_input\u001b[0;34m(self, prompt)\u001b[0m\n\u001b[1;32m    849\u001b[0m                 \u001b[0;34m\"raw_input was called, but this frontend does not support input requests.\"\u001b[0m\u001b[0;34m\u001b[0m\u001b[0;34m\u001b[0m\u001b[0m\n\u001b[1;32m    850\u001b[0m             )\n\u001b[0;32m--> 851\u001b[0;31m         return self._input_request(str(prompt),\n\u001b[0m\u001b[1;32m    852\u001b[0m             \u001b[0mself\u001b[0m\u001b[0;34m.\u001b[0m\u001b[0m_parent_ident\u001b[0m\u001b[0;34m,\u001b[0m\u001b[0;34m\u001b[0m\u001b[0;34m\u001b[0m\u001b[0m\n\u001b[1;32m    853\u001b[0m             \u001b[0mself\u001b[0m\u001b[0;34m.\u001b[0m\u001b[0m_parent_header\u001b[0m\u001b[0;34m,\u001b[0m\u001b[0;34m\u001b[0m\u001b[0;34m\u001b[0m\u001b[0m\n",
            "\u001b[0;32m/usr/local/lib/python3.11/dist-packages/ipykernel/kernelbase.py\u001b[0m in \u001b[0;36m_input_request\u001b[0;34m(self, prompt, ident, parent, password)\u001b[0m\n\u001b[1;32m    893\u001b[0m             \u001b[0;32mexcept\u001b[0m \u001b[0mKeyboardInterrupt\u001b[0m\u001b[0;34m:\u001b[0m\u001b[0;34m\u001b[0m\u001b[0;34m\u001b[0m\u001b[0m\n\u001b[1;32m    894\u001b[0m                 \u001b[0;31m# re-raise KeyboardInterrupt, to truncate traceback\u001b[0m\u001b[0;34m\u001b[0m\u001b[0;34m\u001b[0m\u001b[0m\n\u001b[0;32m--> 895\u001b[0;31m                 \u001b[0;32mraise\u001b[0m \u001b[0mKeyboardInterrupt\u001b[0m\u001b[0;34m(\u001b[0m\u001b[0;34m\"Interrupted by user\"\u001b[0m\u001b[0;34m)\u001b[0m \u001b[0;32mfrom\u001b[0m \u001b[0;32mNone\u001b[0m\u001b[0;34m\u001b[0m\u001b[0;34m\u001b[0m\u001b[0m\n\u001b[0m\u001b[1;32m    896\u001b[0m             \u001b[0;32mexcept\u001b[0m \u001b[0mException\u001b[0m \u001b[0;32mas\u001b[0m \u001b[0me\u001b[0m\u001b[0;34m:\u001b[0m\u001b[0;34m\u001b[0m\u001b[0;34m\u001b[0m\u001b[0m\n\u001b[1;32m    897\u001b[0m                 \u001b[0mself\u001b[0m\u001b[0;34m.\u001b[0m\u001b[0mlog\u001b[0m\u001b[0;34m.\u001b[0m\u001b[0mwarning\u001b[0m\u001b[0;34m(\u001b[0m\u001b[0;34m\"Invalid Message:\"\u001b[0m\u001b[0;34m,\u001b[0m \u001b[0mexc_info\u001b[0m\u001b[0;34m=\u001b[0m\u001b[0;32mTrue\u001b[0m\u001b[0;34m)\u001b[0m\u001b[0;34m\u001b[0m\u001b[0;34m\u001b[0m\u001b[0m\n",
            "\u001b[0;31mKeyboardInterrupt\u001b[0m: Interrupted by user"
          ]
        }
      ]
    }
  ]
}