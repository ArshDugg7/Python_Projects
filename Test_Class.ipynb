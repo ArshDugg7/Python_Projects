{
  "nbformat": 4,
  "nbformat_minor": 0,
  "metadata": {
    "colab": {
      "provenance": []
    },
    "kernelspec": {
      "name": "python3",
      "display_name": "Python 3"
    },
    "language_info": {
      "name": "python"
    }
  },
  "cells": [
    {
      "cell_type": "markdown",
      "source": [
        "#Section 3: Coding Questions (10 points each)\n",
        "#Write Python programs for the following:\n",
        "#Class and Object\n",
        "\n",
        "Create a class Car with attributes: brand, model, and year.\n",
        "\n",
        "Add a method display_info() that prints car details.\n",
        "\n",
        "Create an object and call the method.\n",
        "\n",
        "# Inheritance\n",
        "\n",
        "Create a base class Animal with a method speak(), which prints \"Animal speaks\".\n",
        "\n",
        "Create two child classes, Dog and Cat, that override the speak() method with \"Bark\" and \"Meow\", respectively.\n",
        "\n",
        "Demonstrate polymorphism by calling speak() on different objects.\n",
        "\n",
        "# Encapsulation\n",
        "Create a class BankAccount with a private attribute _balance.\n",
        "\n",
        "Implement methods deposit(amount) and withdraw(amount) to modify _balance.\n",
        "\n",
        "Add a method get_balance() to retrieve _balance.\n",
        "\n",
        "Demonstrate encapsulation by accessing _balance only through methods.\n",
        "\n",
        "# Abstract Class\n",
        "\n",
        "Create an abstract class Shape with an abstract method area().\n",
        "\n",
        "Create two child classes Circle and Rectangle that implement the area() method.\n",
        "\n",
        "Demonstrate the use of the abstract class."
      ],
      "metadata": {
        "id": "O0X-Phcp6J6B"
      }
    },
    {
      "cell_type": "code",
      "execution_count": 32,
      "metadata": {
        "colab": {
          "base_uri": "https://localhost:8080/"
        },
        "id": "9_JwRIYOlWbc",
        "outputId": "f5e867dc-ba29-45bb-9660-24e645e9c3ec"
      },
      "outputs": [
        {
          "output_type": "stream",
          "name": "stdout",
          "text": [
            "Brand: BMW, Model: M5, Year: 2020\n",
            "Bark\n",
            "Meow\n",
            "Circle\n",
            "Rectangle\n"
          ]
        }
      ],
      "source": [
        "# Class and Obj\n",
        "\n",
        "class Car():\n",
        "\n",
        "  def __init__(self, brand, model, year):\n",
        "    self.brand = brand\n",
        "    self.model = model\n",
        "    self.year = year\n",
        "\n",
        "  def display_info(self):\n",
        "    print(f\"Brand: {self.brand}, Model: {self.model}, Year: {self.year}\")\n",
        "\n",
        "car1 = Car(\"BMW\", \"M5\", 2020)\n",
        "\n",
        "car1.display_info()\n",
        "\n",
        "\n",
        "# Inheritence\n",
        "\n",
        "class Animal():\n",
        "  def speak(self):\n",
        "    print(\"Animal Speaks\")\n",
        "\n",
        "class Dog(Animal):\n",
        "  def speak(self):\n",
        "    print(\"Bark\")\n",
        "\n",
        "class Cat(Animal):\n",
        "  def speak(self):\n",
        "    print(\"Meow\")\n",
        "\n",
        "dog = Dog()\n",
        "cat = Cat()\n",
        "\n",
        "dog.speak()\n",
        "cat.speak()\n",
        "\n",
        "# Encapsulation\n",
        "\n",
        "class BankAccount():\n",
        "\n",
        "  def __init__(self, balance):\n",
        "    self._balance = balance\n",
        "\n",
        "  def deposit(self, amount):\n",
        "    self._balance += amount\n",
        "\n",
        "  def withdraw(self, amount):\n",
        "    self._balance -= amount\n",
        "\n",
        "  def get_balance(self):\n",
        "    return self._balance\n",
        "\n",
        "account = BankAccount(100)\n",
        "account.deposit(100)\n",
        "account.withdraw(50)\n",
        "\n",
        "account.get_balance()\n",
        "\n",
        "# Abstract Class\n",
        "\n",
        "from abc import ABC\n",
        "\n",
        "class Shape(ABC):\n",
        "\n",
        "  def area(self):\n",
        "    pass\n",
        "\n",
        "class Circle(Shape):\n",
        "\n",
        "  def area(self):\n",
        "    print(\"Circle\")\n",
        "\n",
        "class Rectangle(Shape):\n",
        "\n",
        "    def area(self):\n",
        "      print(\"Rectangle\")\n",
        "\n",
        "circle = Circle()\n",
        "rectangle = Rectangle()\n",
        "\n",
        "circle.area()\n",
        "rectangle.area()"
      ]
    }
  ]
}