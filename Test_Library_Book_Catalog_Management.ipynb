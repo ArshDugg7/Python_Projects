{
  "nbformat": 4,
  "nbformat_minor": 0,
  "metadata": {
    "colab": {
      "provenance": []
    },
    "kernelspec": {
      "name": "python3",
      "display_name": "Python 3"
    },
    "language_info": {
      "name": "python"
    }
  },
  "cells": [
    {
      "cell_type": "markdown",
      "source": [
        "Instructions\n",
        "1. Initial Catalog Setup\n",
        "Create a dictionary catalog with the following books and their details:\n",
        "\n",
        "'To Kill a Mockingbird': ('Fiction', 'Available')\n",
        "\n",
        "'A Brief History of Time': ('Science', 'Checked Out')\n",
        "\n",
        "'The Great Gatsby': ('Fiction', 'Available')\n",
        "\n",
        "'Sapiens': ('History', 'Available')\n",
        "\n",
        "2. Add New Books\n",
        "Add the following new books to the catalog:\n",
        "\n",
        "'1984': ('Fiction', 'Available')\n",
        "\n",
        "'The Selfish Gene': ('Science', 'Available')\n",
        "\n",
        "3. Remove Old Books\n",
        "\n",
        "Remove one book that is no longer in circulation.\n",
        "\n",
        "4. Implement the Following Functions\n",
        "\n",
        "Display Catalog\n",
        "Write a function show_catalog(catalog) to print the books in this format:\n",
        "\"Title: {book_title} | Genre: {genre} | Status: {availability}\".\n",
        "\n",
        "Count Books by Genre\n",
        "Write a function count_books_by_genre(catalog) to return a dictionary where the keys are genres and the values are the number of books in each genre.\n",
        "Example: {'Fiction': 3, 'Science': 2, 'History': 1}.\n",
        "\n",
        "Update Book Status\n",
        "Write a function update_status(catalog, book_title, new_status) to change the availability of a book to 'Available' or 'Checked Out'. If the book doesn't exist, print: \"Book not found in catalog!\".\n",
        "\n",
        "5. Test the Functions\n",
        "Use the following steps to test your functions:\n",
        "\n",
        "Call show_catalog to display the initial catalog after adding and removing books.\n",
        "\n",
        "Call count_books_by_genre and display the count for each genre.\n",
        "\n",
        "Call update_status to:\n",
        "Mark '1984' as 'Checked Out'.\n",
        "\n",
        "Attempt to update the status of 'Moby Dick', which isn't in the catalog.\n",
        "\n",
        "Call show_catalog again to display the updated catalog.\n"
      ],
      "metadata": {
        "id": "BI8uvBKOtdLo"
      }
    },
    {
      "cell_type": "code",
      "source": [
        "catalog = {'To Kill a Mockingbird': ('Fiction', 'Available'),\n",
        "           'A Brief History of Time': ('Science', 'Checked Out'),\n",
        "           'The Great Gatsby': ('Fiction', 'Available'),\n",
        "           'Sapiens': ('History', 'Available')}\n",
        "\n",
        "catalog['1984'] = ('Fiction', 'Available')\n",
        "catalog['The Selfish Gene'] = ('Science', 'Available')\n",
        "\n",
        "catalog.pop('The Great Gatsby')\n",
        "\n",
        "def show_catalog(catalog):\n",
        "  for key, value in catalog.items():\n",
        "    print(f\"Title: {key} | Genre: {value[0]} | Status: {value[1]}\")\n",
        "\n",
        "def count_books_by_genre(catalog):\n",
        "  dictionary = {}\n",
        "\n",
        "  for key,value in catalog.items():\n",
        "    if value[0] in dictionary:\n",
        "      dictionary[value[0]] += 1\n",
        "    else:\n",
        "      dictionary[value[0]] = 1\n",
        "\n",
        "  return dictionary\n",
        "\n",
        "def update_status(catalog, book_title, new_status):\n",
        "\n",
        "    if book_title.lower() in catalog.keys():\n",
        "      catalog[book_title] = (catalog[book_title][0], new_status)\n",
        "      return\n",
        "\n",
        "    else:\n",
        "      print(f\"\\nBook {book_title} not found in catalog! \\n\")\n",
        "\n",
        "\n",
        "show_catalog(catalog)\n",
        "print(f\"\\nBook Type: {count_books_by_genre(catalog)}\\n\")\n",
        "\n",
        "update_status(catalog,'moby','Checked Out')\n",
        "show_catalog(catalog)\n"
      ],
      "metadata": {
        "colab": {
          "base_uri": "https://localhost:8080/"
        },
        "id": "bb08Nz2ty0rv",
        "outputId": "bfab8438-68cf-4555-c72d-f46d0719a94c"
      },
      "execution_count": null,
      "outputs": [
        {
          "output_type": "stream",
          "name": "stdout",
          "text": [
            "Title: To Kill a Mockingbird | Genre: Fiction | Status: Available\n",
            "Title: A Brief History of Time | Genre: Science | Status: Checked Out\n",
            "Title: Sapiens | Genre: History | Status: Available\n",
            "Title: 1984 | Genre: Fiction | Status: Available\n",
            "Title: The Selfish Gene | Genre: Science | Status: Available\n",
            "\n",
            "Book Type: {'Fiction': 2, 'Science': 2, 'History': 1}\n",
            "\n",
            "\n",
            "Book moby not found in catalog! \n",
            "\n",
            "Title: To Kill a Mockingbird | Genre: Fiction | Status: Available\n",
            "Title: A Brief History of Time | Genre: Science | Status: Checked Out\n",
            "Title: Sapiens | Genre: History | Status: Available\n",
            "Title: 1984 | Genre: Fiction | Status: Available\n",
            "Title: The Selfish Gene | Genre: Science | Status: Available\n"
          ]
        }
      ]
    },
    {
      "cell_type": "markdown",
      "source": [],
      "metadata": {
        "id": "-Wry7wRay0YI"
      }
    }
  ]
}