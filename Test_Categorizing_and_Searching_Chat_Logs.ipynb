{
  "nbformat": 4,
  "nbformat_minor": 0,
  "metadata": {
    "colab": {
      "provenance": []
    },
    "kernelspec": {
      "name": "python3",
      "display_name": "Python 3"
    },
    "language_info": {
      "name": "python"
    }
  },
  "cells": [
    {
      "cell_type": "markdown",
      "source": [
        "1. Implement the categorize_issues function.\n",
        "\n",
        "This function should take the chat_logs list and return a dictionary where the keys are the issue types and the values are lists of messages of that type.\n",
        "\n",
        "Example input:\n",
        "\n",
        "chat_logs = [\n",
        "    {\"message\": \"I can't log in.\", \"type\": \"Authentication\"},\n",
        "    {\"message\": \"The app crashes when I click the button.\", \"type\": \"Bug\"},\n",
        "    {\"message\": \"The page is not responsive on mobile.\", \"type\": \"UI\"}\n",
        "]\n",
        "\n",
        "Example output:\n",
        "\n",
        "{\n",
        "    \"Authentication\": [\"I can't log in.\"],\n",
        "    \"Bug\": [\"The app crashes when I click the button.\"],\n",
        "    \"UI\": [\"The page is not responsive on mobile.\"]\n",
        "}\n",
        "\n",
        "2. Implement the keyword_search function.\n",
        "\n",
        "This function should take a keyword and the chat_logs list and return a list of messages that contain the given keyword, ignoring case.\n",
        "\n",
        "Example input:\n",
        "\n",
        "keyword = \"button\"\n",
        "chat_logs = [\n",
        "    {\"message\": \"The app crashes when I click the button.\", \"type\": \"Bug\"},\n",
        "    {\"message\": \"I can't log in.\", \"type\": \"Authentication\"}\n",
        "]\n",
        "\n",
        "Example output:\n",
        "\n",
        "[\"The app crashes when I click the button.\"]\n",
        "\n",
        "3. Tasks to Complete:\n",
        "\n",
        "Write the two functions: categorize_issues and keyword_search.\n",
        "\n",
        "Use the provided chat logs for testing and display the results.\n",
        "\n",
        "Perform a keyword search for \"button\" and categorize the issues.\n",
        "\n",
        "Chat Logs for Testing:\n",
        "\n",
        "chat_logs = [\n",
        "    {\"message\": \"The login page is not loading.\", \"type\": \"UI\"},\n",
        "    {\"message\": \"The app crashes when I press the button.\", \"type\": \"Bug\"},\n",
        "    {\"message\": \"I cannot access my account.\", \"type\": \"Authentication\"},\n",
        "    {\"message\": \"The button doesn't work when clicked.\", \"type\": \"Bug\"},\n",
        "    {\"message\": \"The app freezes on the dashboard screen.\", \"type\": \"Bug\"},\n",
        "    {\"message\": \"The page takes too long to load.\", \"type\": \"Performance\"},\n",
        "    {\"message\": \"I cannot recover my password.\", \"type\": \"Authentication\"}\n",
        "]\n",
        "\n",
        "Tasks:\n",
        "Implement categorize_issues and keyword_search functions.\n",
        "\n",
        "Use categorize_issues to categorize the provided chat logs.\n",
        "\n",
        "Use keyword_search to find messages containing the keyword \"button\".\n",
        "\n",
        "Bonus: Create a user interface where a user can input a keyword, and the system will search the messages and return matching results.\n",
        "\n",
        "This test covers categorizing issues and performing keyword searches, similar to the initial instructions but with a new set of tasks and a real-life scenario approach."
      ],
      "metadata": {
        "id": "-7490WUdCfMa"
      }
    },
    {
      "cell_type": "code",
      "source": [
        "chat_logs = [\n",
        "    {\"message\": \"I can't log in.\", \"type\": \"Authentication\"},\n",
        "    {\"message\": \"The app crashes when I click the button.\", \"type\": \"Bug\"},\n",
        "    {\"message\": \"The page is not responsive on mobile.\", \"type\": \"UI\"}\n",
        "]\n",
        "\n",
        "def categorize_issues(chat_logs):\n",
        "\n",
        "  dictionary = {}\n",
        "\n",
        "  for logs in chat_logs:\n",
        "\n",
        "    Type = logs[\"type\"] # logs[\"type\"] is like accessing the dictionary using the key\n",
        "    Message = logs[\"message\"]\n",
        "\n",
        "    if Type in dictionary:\n",
        "      dictionary[Type].append(Message) # If the type already exists in chat_logs, append the message to the list of that type\n",
        "\n",
        "    else:\n",
        "      dictionary[Type] = [Message] # If the issue type doesn't exist yet, create a new entry with the message\n",
        "\n",
        "  return dictionary\n",
        "\n",
        "def keyword_search(keyword, chat_logs ):\n",
        "\n",
        "  keyword = keyword.lower()\n",
        "  result = []\n",
        "\n",
        "  for logs in chat_logs:\n",
        "\n",
        "    Message = logs[\"message\"].lower()\n",
        "\n",
        "    if keyword in Message:\n",
        "      result.append(logs)\n",
        "\n",
        "  return result\n",
        "\n",
        "print(categorize_issues(chat_logs))\n",
        "\n",
        "keyword = input(\"Enter the search keyword: \")\n",
        "search_results = keyword_search(keyword, chat_logs)\n",
        "print(\"\\nSearch Results:\")\n",
        "print(search_results)"
      ],
      "metadata": {
        "colab": {
          "base_uri": "https://localhost:8080/",
          "height": 387
        },
        "id": "TQO0vkKlDH04",
        "outputId": "1f6f08ef-411a-4ead-c351-903c9652d984"
      },
      "execution_count": null,
      "outputs": [
        {
          "output_type": "stream",
          "name": "stdout",
          "text": [
            "{'Authentication': [\"I can't log in.\"], 'Bug': ['The app crashes when I click the button.'], 'UI': ['The page is not responsive on mobile.']}\n"
          ]
        },
        {
          "output_type": "error",
          "ename": "KeyboardInterrupt",
          "evalue": "Interrupted by user",
          "traceback": [
            "\u001b[0;31m---------------------------------------------------------------------------\u001b[0m",
            "\u001b[0;31mKeyboardInterrupt\u001b[0m                         Traceback (most recent call last)",
            "\u001b[0;32m<ipython-input-5-3f9dedb71477>\u001b[0m in \u001b[0;36m<cell line: 0>\u001b[0;34m()\u001b[0m\n\u001b[1;32m     38\u001b[0m \u001b[0mprint\u001b[0m\u001b[0;34m(\u001b[0m\u001b[0mcategorize_issues\u001b[0m\u001b[0;34m(\u001b[0m\u001b[0mchat_logs\u001b[0m\u001b[0;34m)\u001b[0m\u001b[0;34m)\u001b[0m\u001b[0;34m\u001b[0m\u001b[0;34m\u001b[0m\u001b[0m\n\u001b[1;32m     39\u001b[0m \u001b[0;34m\u001b[0m\u001b[0m\n\u001b[0;32m---> 40\u001b[0;31m \u001b[0mkeyword\u001b[0m \u001b[0;34m=\u001b[0m \u001b[0minput\u001b[0m\u001b[0;34m(\u001b[0m\u001b[0;34m\"Enter the search keyword: \"\u001b[0m\u001b[0;34m)\u001b[0m\u001b[0;34m\u001b[0m\u001b[0;34m\u001b[0m\u001b[0m\n\u001b[0m\u001b[1;32m     41\u001b[0m \u001b[0msearch_results\u001b[0m \u001b[0;34m=\u001b[0m \u001b[0mkeyword_search\u001b[0m\u001b[0;34m(\u001b[0m\u001b[0mkeyword\u001b[0m\u001b[0;34m,\u001b[0m \u001b[0mchat_logs\u001b[0m\u001b[0;34m)\u001b[0m\u001b[0;34m\u001b[0m\u001b[0;34m\u001b[0m\u001b[0m\n\u001b[1;32m     42\u001b[0m \u001b[0mprint\u001b[0m\u001b[0;34m(\u001b[0m\u001b[0;34m\"\\nSearch Results:\"\u001b[0m\u001b[0;34m)\u001b[0m\u001b[0;34m\u001b[0m\u001b[0;34m\u001b[0m\u001b[0m\n",
            "\u001b[0;32m/usr/local/lib/python3.11/dist-packages/ipykernel/kernelbase.py\u001b[0m in \u001b[0;36mraw_input\u001b[0;34m(self, prompt)\u001b[0m\n\u001b[1;32m    849\u001b[0m                 \u001b[0;34m\"raw_input was called, but this frontend does not support input requests.\"\u001b[0m\u001b[0;34m\u001b[0m\u001b[0;34m\u001b[0m\u001b[0m\n\u001b[1;32m    850\u001b[0m             )\n\u001b[0;32m--> 851\u001b[0;31m         return self._input_request(str(prompt),\n\u001b[0m\u001b[1;32m    852\u001b[0m             \u001b[0mself\u001b[0m\u001b[0;34m.\u001b[0m\u001b[0m_parent_ident\u001b[0m\u001b[0;34m,\u001b[0m\u001b[0;34m\u001b[0m\u001b[0;34m\u001b[0m\u001b[0m\n\u001b[1;32m    853\u001b[0m             \u001b[0mself\u001b[0m\u001b[0;34m.\u001b[0m\u001b[0m_parent_header\u001b[0m\u001b[0;34m,\u001b[0m\u001b[0;34m\u001b[0m\u001b[0;34m\u001b[0m\u001b[0m\n",
            "\u001b[0;32m/usr/local/lib/python3.11/dist-packages/ipykernel/kernelbase.py\u001b[0m in \u001b[0;36m_input_request\u001b[0;34m(self, prompt, ident, parent, password)\u001b[0m\n\u001b[1;32m    893\u001b[0m             \u001b[0;32mexcept\u001b[0m \u001b[0mKeyboardInterrupt\u001b[0m\u001b[0;34m:\u001b[0m\u001b[0;34m\u001b[0m\u001b[0;34m\u001b[0m\u001b[0m\n\u001b[1;32m    894\u001b[0m                 \u001b[0;31m# re-raise KeyboardInterrupt, to truncate traceback\u001b[0m\u001b[0;34m\u001b[0m\u001b[0;34m\u001b[0m\u001b[0m\n\u001b[0;32m--> 895\u001b[0;31m                 \u001b[0;32mraise\u001b[0m \u001b[0mKeyboardInterrupt\u001b[0m\u001b[0;34m(\u001b[0m\u001b[0;34m\"Interrupted by user\"\u001b[0m\u001b[0;34m)\u001b[0m \u001b[0;32mfrom\u001b[0m \u001b[0;32mNone\u001b[0m\u001b[0;34m\u001b[0m\u001b[0;34m\u001b[0m\u001b[0m\n\u001b[0m\u001b[1;32m    896\u001b[0m             \u001b[0;32mexcept\u001b[0m \u001b[0mException\u001b[0m \u001b[0;32mas\u001b[0m \u001b[0me\u001b[0m\u001b[0;34m:\u001b[0m\u001b[0;34m\u001b[0m\u001b[0;34m\u001b[0m\u001b[0m\n\u001b[1;32m    897\u001b[0m                 \u001b[0mself\u001b[0m\u001b[0;34m.\u001b[0m\u001b[0mlog\u001b[0m\u001b[0;34m.\u001b[0m\u001b[0mwarning\u001b[0m\u001b[0;34m(\u001b[0m\u001b[0;34m\"Invalid Message:\"\u001b[0m\u001b[0;34m,\u001b[0m \u001b[0mexc_info\u001b[0m\u001b[0;34m=\u001b[0m\u001b[0;32mTrue\u001b[0m\u001b[0;34m)\u001b[0m\u001b[0;34m\u001b[0m\u001b[0;34m\u001b[0m\u001b[0m\n",
            "\u001b[0;31mKeyboardInterrupt\u001b[0m: Interrupted by user"
          ]
        }
      ]
    }
  ]
}