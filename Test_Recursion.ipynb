{
  "nbformat": 4,
  "nbformat_minor": 0,
  "metadata": {
    "colab": {
      "provenance": []
    },
    "kernelspec": {
      "name": "python3",
      "display_name": "Python 3"
    },
    "language_info": {
      "name": "python"
    }
  },
  "cells": [
    {
      "cell_type": "code",
      "execution_count": 8,
      "metadata": {
        "colab": {
          "base_uri": "https://localhost:8080/"
        },
        "id": "fStRHG3_nxhx",
        "outputId": "d581f7a0-1f06-4871-d8b4-016117485724"
      },
      "outputs": [
        {
          "output_type": "stream",
          "name": "stdout",
          "text": [
            "factorial(0) = 1\n",
            "factorial(1) = 1\n",
            "factorial(5) = 120\n",
            "factorial(7) = 5040\n"
          ]
        }
      ],
      "source": [
        "def factorial(n):\n",
        "      if n == 0:\n",
        "        return 1\n",
        "      else:\n",
        "        return n * factorial(n-1)\n",
        "\n",
        "# Test the function\n",
        "test_values = [0, 1, 5, 7]\n",
        "\n",
        "for value in test_values:\n",
        "    print(f\"factorial({value}) = {factorial(value)}\")\n"
      ]
    },
    {
      "cell_type": "code",
      "source": [
        "def recursive_sum(lst):\n",
        "    if not lst:\n",
        "      return 0\n",
        "    else:\n",
        "      return lst[0] + recursive_sum(lst[1:]) # Slicing\n",
        "\n",
        "# Test the function\n",
        "test_lists = [\n",
        "    [1, 2, 3, 4, 5],      # Expected sum: 15\n",
        "    [10, 20, 30],         # Expected sum: 60\n",
        "    [7, 14, 21],          # Expected sum: 42\n",
        "    []                    # Expected sum: 0\n",
        "]\n",
        "\n",
        "for lst in test_lists:\n",
        "    print(f\"recursive_sum({lst}) = {recursive_sum(lst)}\")"
      ],
      "metadata": {
        "colab": {
          "base_uri": "https://localhost:8080/"
        },
        "id": "MnCdSsk4pNyW",
        "outputId": "ae099391-28d9-4b86-fccd-934504046a0f"
      },
      "execution_count": 12,
      "outputs": [
        {
          "output_type": "stream",
          "name": "stdout",
          "text": [
            "recursive_sum([1, 2, 3, 4, 5]) = 15\n",
            "recursive_sum([10, 20, 30]) = 60\n",
            "recursive_sum([7, 14, 21]) = 42\n",
            "recursive_sum([]) = 0\n"
          ]
        }
      ]
    },
    {
      "cell_type": "code",
      "source": [
        "def reverse_string(s):\n",
        "    if len(s) <= 1:\n",
        "      return s\n",
        "    else:\n",
        "      return reverse_string(s[1:]) + s[0] # SLicing\n",
        "\n",
        "# Test the function\n",
        "test_strings = [\n",
        "    \"hello\",     # Expected output: \"olleh\"\n",
        "    \"world\",     # Expected output: \"dlrow\"\n",
        "    \"python\",    # Expected output: \"nohtyp\"\n",
        "    \"\"           # Expected output: \"\"\n",
        "]\n",
        "\n",
        "for s in test_strings:\n",
        "    print(f\"reverse_string({s}) = {reverse_string(s)}\")"
      ],
      "metadata": {
        "colab": {
          "base_uri": "https://localhost:8080/"
        },
        "id": "uHdAOuejqtDI",
        "outputId": "485469e0-2d02-43bf-970a-0dda3f2877d4"
      },
      "execution_count": 19,
      "outputs": [
        {
          "output_type": "stream",
          "name": "stdout",
          "text": [
            "reverse_string(hello) = olleh\n",
            "reverse_string(world) = dlrow\n",
            "reverse_string(python) = nohtyp\n",
            "reverse_string() = \n"
          ]
        }
      ]
    }
  ]
}